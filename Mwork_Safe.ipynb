{
  "nbformat": 4,
  "nbformat_minor": 0,
  "metadata": {
    "colab": {
      "provenance": []
    },
    "kernelspec": {
      "name": "python3",
      "display_name": "Python 3"
    },
    "language_info": {
      "name": "python"
    }
  },
  "cells": [
    {
      "cell_type": "code",
      "execution_count": null,
      "metadata": {
        "id": "8Fu66bX58T7o"
      },
      "outputs": [],
      "source": [
        "import pandas as pd\n",
        "import matplotlib.pyplot as plt\n",
        "import seaborn as sns\n"
      ]
    },
    {
      "cell_type": "markdown",
      "source": [
        "data = {\n",
        "    'Month': ['Jan', 'Feb', 'Mar', 'Apr', 'May', 'Jun',\n",
        "              'Jul', 'Aug', 'Sep', 'Oct', 'Nov', 'Dec'],\n",
        "    'Revenue': [12000, 13500, 16000, 14500, 15500, 17000,\n",
        "                17500, 18000, 16500, 19000, 20000, 22000],\n",
        "    'Expenses': [8000, 8500, 9000, 8700, 8800, 9400,\n",
        "                 9600, 9500, 9300, 9700, 9800, 10000]\n",
        "}\n",
        "\n",
        "df = pd.DataFrame(data)\n",
        "df['Profit'] = df['Revenue'] - df['Expenses']\n",
        "df.head()\n"
      ],
      "metadata": {
        "id": "Qlqi_zKz9eLf"
      }
    },
    {
      "cell_type": "code",
      "source": [
        "plt.figure(figsize=(10,6))\n",
        "plt.plot(df['Month'], df['Revenue'], label='Revenue', marker='o')\n",
        "plt.plot(df['Month'], df['Expenses'], label='Expenses', marker='o')\n",
        "plt.title('Monthly Revenue vs Expenses')\n",
        "plt.xlabel('Month')\n",
        "plt.ylabel('Amount ($)')\n",
        "plt.legend()\n",
        "plt.grid(True)\n",
        "plt.tight_layout()\n",
        "plt.show()\n"
      ],
      "metadata": {
        "id": "oJrE8EAM9lbf"
      },
      "execution_count": null,
      "outputs": []
    },
    {
      "cell_type": "code",
      "source": [
        "df['Profit Margin (%)'] = round((df['Profit'] / df['Revenue']) * 100, 2)\n",
        "\n",
        "plt.figure(figsize=(10,6))\n",
        "sns.barplot(x='Month', y='Profit Margin (%)', data=df, palette='Blues')\n",
        "plt.title('Monthly Profit Margin (%)')\n",
        "plt.ylabel('Profit Margin %')\n",
        "plt.xticks(rotation=45)\n",
        "plt.tight_layout()\n",
        "plt.show()\n"
      ],
      "metadata": {
        "id": "KnVPYhio9qV7"
      },
      "execution_count": null,
      "outputs": []
    },
    {
      "cell_type": "code",
      "source": [
        "from sklearn.linear_model import LinearRegression\n",
        "import numpy as np\n",
        "\n",
        "X = np.array(range(1, 13)).reshape(-1, 1)\n",
        "y = df['Revenue']\n",
        "\n",
        "model = LinearRegression()\n",
        "model.fit(X, y)\n",
        "\n",
        "X_future = np.array(range(13, 16)).reshape(-1, 1)\n",
        "future_revenue = model.predict(X_future)\n",
        "\n",
        "for i, value in enumerate(future_revenue, start=1):\n",
        "    print(f\"Forecast for Month {12 + i}: ${value:.2f}\")\n"
      ],
      "metadata": {
        "id": "dmn5x36E9u59"
      },
      "execution_count": null,
      "outputs": []
    }
  ]
}